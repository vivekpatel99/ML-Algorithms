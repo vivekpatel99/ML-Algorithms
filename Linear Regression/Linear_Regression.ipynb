{
 "cells": [
  {
   "cell_type": "markdown",
   "metadata": {},
   "source": [
    "# Introduction\n",
    "\n",
    "We are going to implement linear regression with differnt methods using Medical cost data.\n",
    "dataset can be downloaded from [Medical Cost Personal Dataset](https://www.kaggle.com/datasets/mirichoi0218/insurance/code?select=insurance.csv)"
   ]
  },
  {
   "cell_type": "markdown",
   "metadata": {},
   "source": [
    "# Data Preprocessing"
   ]
  },
  {
   "cell_type": "code",
   "execution_count": 51,
   "metadata": {},
   "outputs": [],
   "source": [
    "# Import all the libs\n",
    "import pandas as pd\n",
    "import numpy as np\n",
    "import seaborn as sns\n",
    "import matplotlib.pyplot as plt"
   ]
  },
  {
   "cell_type": "code",
   "execution_count": 52,
   "metadata": {},
   "outputs": [
    {
     "data": {
      "text/html": [
       "<div>\n",
       "<style scoped>\n",
       "    .dataframe tbody tr th:only-of-type {\n",
       "        vertical-align: middle;\n",
       "    }\n",
       "\n",
       "    .dataframe tbody tr th {\n",
       "        vertical-align: top;\n",
       "    }\n",
       "\n",
       "    .dataframe thead th {\n",
       "        text-align: right;\n",
       "    }\n",
       "</style>\n",
       "<table border=\"1\" class=\"dataframe\">\n",
       "  <thead>\n",
       "    <tr style=\"text-align: right;\">\n",
       "      <th></th>\n",
       "      <th>age</th>\n",
       "      <th>sex</th>\n",
       "      <th>bmi</th>\n",
       "      <th>children</th>\n",
       "      <th>smoker</th>\n",
       "      <th>region</th>\n",
       "      <th>charges</th>\n",
       "    </tr>\n",
       "  </thead>\n",
       "  <tbody>\n",
       "    <tr>\n",
       "      <th>0</th>\n",
       "      <td>19</td>\n",
       "      <td>female</td>\n",
       "      <td>27.900</td>\n",
       "      <td>0</td>\n",
       "      <td>yes</td>\n",
       "      <td>southwest</td>\n",
       "      <td>16884.92400</td>\n",
       "    </tr>\n",
       "    <tr>\n",
       "      <th>1</th>\n",
       "      <td>18</td>\n",
       "      <td>male</td>\n",
       "      <td>33.770</td>\n",
       "      <td>1</td>\n",
       "      <td>no</td>\n",
       "      <td>southeast</td>\n",
       "      <td>1725.55230</td>\n",
       "    </tr>\n",
       "    <tr>\n",
       "      <th>2</th>\n",
       "      <td>28</td>\n",
       "      <td>male</td>\n",
       "      <td>33.000</td>\n",
       "      <td>3</td>\n",
       "      <td>no</td>\n",
       "      <td>southeast</td>\n",
       "      <td>4449.46200</td>\n",
       "    </tr>\n",
       "    <tr>\n",
       "      <th>3</th>\n",
       "      <td>33</td>\n",
       "      <td>male</td>\n",
       "      <td>22.705</td>\n",
       "      <td>0</td>\n",
       "      <td>no</td>\n",
       "      <td>northwest</td>\n",
       "      <td>21984.47061</td>\n",
       "    </tr>\n",
       "    <tr>\n",
       "      <th>4</th>\n",
       "      <td>32</td>\n",
       "      <td>male</td>\n",
       "      <td>28.880</td>\n",
       "      <td>0</td>\n",
       "      <td>no</td>\n",
       "      <td>northwest</td>\n",
       "      <td>3866.85520</td>\n",
       "    </tr>\n",
       "    <tr>\n",
       "      <th>...</th>\n",
       "      <td>...</td>\n",
       "      <td>...</td>\n",
       "      <td>...</td>\n",
       "      <td>...</td>\n",
       "      <td>...</td>\n",
       "      <td>...</td>\n",
       "      <td>...</td>\n",
       "    </tr>\n",
       "    <tr>\n",
       "      <th>1333</th>\n",
       "      <td>50</td>\n",
       "      <td>male</td>\n",
       "      <td>30.970</td>\n",
       "      <td>3</td>\n",
       "      <td>no</td>\n",
       "      <td>northwest</td>\n",
       "      <td>10600.54830</td>\n",
       "    </tr>\n",
       "    <tr>\n",
       "      <th>1334</th>\n",
       "      <td>18</td>\n",
       "      <td>female</td>\n",
       "      <td>31.920</td>\n",
       "      <td>0</td>\n",
       "      <td>no</td>\n",
       "      <td>northeast</td>\n",
       "      <td>2205.98080</td>\n",
       "    </tr>\n",
       "    <tr>\n",
       "      <th>1335</th>\n",
       "      <td>18</td>\n",
       "      <td>female</td>\n",
       "      <td>36.850</td>\n",
       "      <td>0</td>\n",
       "      <td>no</td>\n",
       "      <td>southeast</td>\n",
       "      <td>1629.83350</td>\n",
       "    </tr>\n",
       "    <tr>\n",
       "      <th>1336</th>\n",
       "      <td>21</td>\n",
       "      <td>female</td>\n",
       "      <td>25.800</td>\n",
       "      <td>0</td>\n",
       "      <td>no</td>\n",
       "      <td>southwest</td>\n",
       "      <td>2007.94500</td>\n",
       "    </tr>\n",
       "    <tr>\n",
       "      <th>1337</th>\n",
       "      <td>61</td>\n",
       "      <td>female</td>\n",
       "      <td>29.070</td>\n",
       "      <td>0</td>\n",
       "      <td>yes</td>\n",
       "      <td>northwest</td>\n",
       "      <td>29141.36030</td>\n",
       "    </tr>\n",
       "  </tbody>\n",
       "</table>\n",
       "<p>1338 rows × 7 columns</p>\n",
       "</div>"
      ],
      "text/plain": [
       "      age     sex     bmi  children smoker     region      charges\n",
       "0      19  female  27.900         0    yes  southwest  16884.92400\n",
       "1      18    male  33.770         1     no  southeast   1725.55230\n",
       "2      28    male  33.000         3     no  southeast   4449.46200\n",
       "3      33    male  22.705         0     no  northwest  21984.47061\n",
       "4      32    male  28.880         0     no  northwest   3866.85520\n",
       "...   ...     ...     ...       ...    ...        ...          ...\n",
       "1333   50    male  30.970         3     no  northwest  10600.54830\n",
       "1334   18  female  31.920         0     no  northeast   2205.98080\n",
       "1335   18  female  36.850         0     no  southeast   1629.83350\n",
       "1336   21  female  25.800         0     no  southwest   2007.94500\n",
       "1337   61  female  29.070         0    yes  northwest  29141.36030\n",
       "\n",
       "[1338 rows x 7 columns]"
      ]
     },
     "execution_count": 52,
     "metadata": {},
     "output_type": "execute_result"
    }
   ],
   "source": [
    "df = pd.read_csv(\"insurance.csv\")\n",
    "df"
   ]
  },
  {
   "cell_type": "code",
   "execution_count": 53,
   "metadata": {},
   "outputs": [
    {
     "name": "stdout",
     "output_type": "stream",
     "text": [
      "<class 'pandas.core.frame.DataFrame'>\n",
      "RangeIndex: 1338 entries, 0 to 1337\n",
      "Data columns (total 7 columns):\n",
      " #   Column    Non-Null Count  Dtype  \n",
      "---  ------    --------------  -----  \n",
      " 0   age       1338 non-null   int64  \n",
      " 1   sex       1338 non-null   object \n",
      " 2   bmi       1338 non-null   float64\n",
      " 3   children  1338 non-null   int64  \n",
      " 4   smoker    1338 non-null   object \n",
      " 5   region    1338 non-null   object \n",
      " 6   charges   1338 non-null   float64\n",
      "dtypes: float64(2), int64(2), object(3)\n",
      "memory usage: 73.3+ KB\n"
     ]
    }
   ],
   "source": [
    "df.info()\n",
    "# NO missing data"
   ]
  },
  {
   "cell_type": "code",
   "execution_count": 54,
   "metadata": {},
   "outputs": [
    {
     "data": {
      "text/html": [
       "<div>\n",
       "<style scoped>\n",
       "    .dataframe tbody tr th:only-of-type {\n",
       "        vertical-align: middle;\n",
       "    }\n",
       "\n",
       "    .dataframe tbody tr th {\n",
       "        vertical-align: top;\n",
       "    }\n",
       "\n",
       "    .dataframe thead th {\n",
       "        text-align: right;\n",
       "    }\n",
       "</style>\n",
       "<table border=\"1\" class=\"dataframe\">\n",
       "  <thead>\n",
       "    <tr style=\"text-align: right;\">\n",
       "      <th></th>\n",
       "      <th>age</th>\n",
       "      <th>bmi</th>\n",
       "      <th>children</th>\n",
       "      <th>charges</th>\n",
       "    </tr>\n",
       "  </thead>\n",
       "  <tbody>\n",
       "    <tr>\n",
       "      <th>count</th>\n",
       "      <td>1338.000000</td>\n",
       "      <td>1338.000000</td>\n",
       "      <td>1338.000000</td>\n",
       "      <td>1338.000000</td>\n",
       "    </tr>\n",
       "    <tr>\n",
       "      <th>mean</th>\n",
       "      <td>39.207025</td>\n",
       "      <td>30.663397</td>\n",
       "      <td>1.094918</td>\n",
       "      <td>13270.422265</td>\n",
       "    </tr>\n",
       "    <tr>\n",
       "      <th>std</th>\n",
       "      <td>14.049960</td>\n",
       "      <td>6.098187</td>\n",
       "      <td>1.205493</td>\n",
       "      <td>12110.011237</td>\n",
       "    </tr>\n",
       "    <tr>\n",
       "      <th>min</th>\n",
       "      <td>18.000000</td>\n",
       "      <td>15.960000</td>\n",
       "      <td>0.000000</td>\n",
       "      <td>1121.873900</td>\n",
       "    </tr>\n",
       "    <tr>\n",
       "      <th>25%</th>\n",
       "      <td>27.000000</td>\n",
       "      <td>26.296250</td>\n",
       "      <td>0.000000</td>\n",
       "      <td>4740.287150</td>\n",
       "    </tr>\n",
       "    <tr>\n",
       "      <th>50%</th>\n",
       "      <td>39.000000</td>\n",
       "      <td>30.400000</td>\n",
       "      <td>1.000000</td>\n",
       "      <td>9382.033000</td>\n",
       "    </tr>\n",
       "    <tr>\n",
       "      <th>75%</th>\n",
       "      <td>51.000000</td>\n",
       "      <td>34.693750</td>\n",
       "      <td>2.000000</td>\n",
       "      <td>16639.912515</td>\n",
       "    </tr>\n",
       "    <tr>\n",
       "      <th>max</th>\n",
       "      <td>64.000000</td>\n",
       "      <td>53.130000</td>\n",
       "      <td>5.000000</td>\n",
       "      <td>63770.428010</td>\n",
       "    </tr>\n",
       "  </tbody>\n",
       "</table>\n",
       "</div>"
      ],
      "text/plain": [
       "               age          bmi     children       charges\n",
       "count  1338.000000  1338.000000  1338.000000   1338.000000\n",
       "mean     39.207025    30.663397     1.094918  13270.422265\n",
       "std      14.049960     6.098187     1.205493  12110.011237\n",
       "min      18.000000    15.960000     0.000000   1121.873900\n",
       "25%      27.000000    26.296250     0.000000   4740.287150\n",
       "50%      39.000000    30.400000     1.000000   9382.033000\n",
       "75%      51.000000    34.693750     2.000000  16639.912515\n",
       "max      64.000000    53.130000     5.000000  63770.428010"
      ]
     },
     "execution_count": 54,
     "metadata": {},
     "output_type": "execute_result"
    }
   ],
   "source": [
    "df.describe()"
   ]
  },
  {
   "cell_type": "code",
   "execution_count": 55,
   "metadata": {},
   "outputs": [
    {
     "data": {
      "text/plain": [
       "['sex', 'smoker', 'region', 'children']"
      ]
     },
     "execution_count": 55,
     "metadata": {},
     "output_type": "execute_result"
    }
   ],
   "source": [
    "# handle categorical dataset\n",
    "categorical_cols = [col for col in df.columns if df[col].dtype=='object']  + ['children']\n",
    "categorical_cols"
   ]
  },
  {
   "cell_type": "code",
   "execution_count": 56,
   "metadata": {},
   "outputs": [
    {
     "data": {
      "text/plain": [
       "['age', 'bmi', 'children', 'charges']"
      ]
     },
     "execution_count": 56,
     "metadata": {},
     "output_type": "execute_result"
    }
   ],
   "source": [
    "num_cols = [col for col in df.columns if df[col].dtype in ('float64', 'int64')]\n",
    "num_cols"
   ]
  },
  {
   "cell_type": "code",
   "execution_count": 57,
   "metadata": {},
   "outputs": [
    {
     "data": {
      "text/plain": [
       "array(['southwest', 'southeast', 'northwest', 'northeast'], dtype=object)"
      ]
     },
     "execution_count": 57,
     "metadata": {},
     "output_type": "execute_result"
    }
   ],
   "source": [
    "df['region'].unique()"
   ]
  },
  {
   "cell_type": "code",
   "execution_count": 58,
   "metadata": {},
   "outputs": [
    {
     "data": {
      "text/plain": [
       "<AxesSubplot:xlabel='region', ylabel='charges'>"
      ]
     },
     "execution_count": 58,
     "metadata": {},
     "output_type": "execute_result"
    },
    {
     "data": {
      "image/png": "[encoded data removed]",
      "text/plain": [
       "<Figure size 640x480 with 1 Axes>"
      ]
     },
     "metadata": {},
     "output_type": "display_data"
    }
   ],
   "source": [
    "sns.barplot(df, x='region', y='charges')"
   ]
  },
  {
   "cell_type": "code",
   "execution_count": null,
   "metadata": {},
   "outputs": [],
   "source": []
  },
  {
   "cell_type": "code",
   "execution_count": 59,
   "metadata": {},
   "outputs": [],
   "source": [
    "# divide data into test and train\n",
    "from sklearn.model_selection import train_test_split\n",
    "\n",
    "# remove target (y) from dataset\n",
    "X = df.drop(['charges'], axis=1)\n",
    "y = df.charges\n",
    "\n",
    "# stratifying with sex to avoid baising\n",
    "X_train, X_test, y_train, y_test = train_test_split(X, \n",
    "                                                    y, \n",
    "                                                    stratify=X.sex,\n",
    "                                                    test_size=0.2, \n",
    "                                                    random_state=42 \n",
    "                                                )\n"
   ]
  },
  {
   "cell_type": "code",
   "execution_count": 60,
   "metadata": {},
   "outputs": [
    {
     "data": {
      "text/plain": [
       "(1338,)"
      ]
     },
     "execution_count": 60,
     "metadata": {},
     "output_type": "execute_result"
    }
   ],
   "source": [
    "y.shape"
   ]
  },
  {
   "cell_type": "code",
   "execution_count": 61,
   "metadata": {},
   "outputs": [
    {
     "data": {
      "text/plain": [
       "<seaborn.axisgrid.FacetGrid at 0x1bf139838b0>"
      ]
     },
     "execution_count": 61,
     "metadata": {},
     "output_type": "execute_result"
    },
    {
     "data": {
      "image/png": "[encoded data removed]",
      "text/plain": [
       "<Figure size 500x500 with 1 Axes>"
      ]
     },
     "metadata": {},
     "output_type": "display_data"
    }
   ],
   "source": [
    "sns.displot(df.charges)\n"
   ]
  },
  {
   "cell_type": "markdown",
   "metadata": {},
   "source": [
    "## Discover and Visualize the Data to Gain Insights use only train dataset"
   ]
  },
  {
   "cell_type": "code",
   "execution_count": 62,
   "metadata": {},
   "outputs": [],
   "source": [
    "corr_matrix = df.corr()"
   ]
  },
  {
   "cell_type": "code",
   "execution_count": 63,
   "metadata": {},
   "outputs": [
    {
     "data": {
      "text/plain": [
       "charges     1.000000\n",
       "age         0.299008\n",
       "bmi         0.198341\n",
       "children    0.067998\n",
       "Name: charges, dtype: float64"
      ]
     },
     "execution_count": 63,
     "metadata": {},
     "output_type": "execute_result"
    }
   ],
   "source": [
    "corr_matrix['charges'].sort_values(ascending=False)"
   ]
  },
  {
   "cell_type": "code",
   "execution_count": 64,
   "metadata": {},
   "outputs": [
    {
     "data": {
      "text/plain": [
       "['sex', 'smoker', 'region', 'children']"
      ]
     },
     "execution_count": 64,
     "metadata": {},
     "output_type": "execute_result"
    }
   ],
   "source": [
    "categorical_cols"
   ]
  },
  {
   "cell_type": "code",
   "execution_count": 65,
   "metadata": {},
   "outputs": [
    {
     "name": "stdout",
     "output_type": "stream",
     "text": [
      "<class 'pandas.core.frame.DataFrame'>\n",
      "Int64Index: 1070 entries, 242 to 1304\n",
      "Data columns (total 12 columns):\n",
      " #   Column         Non-Null Count  Dtype  \n",
      "---  ------         --------------  -----  \n",
      " 0   age            1070 non-null   int64  \n",
      " 1   bmi            1070 non-null   float64\n",
      " 2   OHO_male       1070 non-null   uint8  \n",
      " 3   OHO_yes        1070 non-null   uint8  \n",
      " 4   OHO_northwest  1070 non-null   uint8  \n",
      " 5   OHO_southeast  1070 non-null   uint8  \n",
      " 6   OHO_southwest  1070 non-null   uint8  \n",
      " 7   OHO_1          1070 non-null   uint8  \n",
      " 8   OHO_2          1070 non-null   uint8  \n",
      " 9   OHO_3          1070 non-null   uint8  \n",
      " 10  OHO_4          1070 non-null   uint8  \n",
      " 11  OHO_5          1070 non-null   uint8  \n",
      "dtypes: float64(1), int64(1), uint8(10)\n",
      "memory usage: 35.5 KB\n"
     ]
    }
   ],
   "source": [
    "# Handle categorical columns/features\n",
    "encoded_X_train_df = pd.get_dummies(data=X_train, prefix='OHO', prefix_sep='_', columns=categorical_cols, drop_first=True)\n",
    "encoded_X_train_df.info()"
   ]
  },
  {
   "cell_type": "code",
   "execution_count": 66,
   "metadata": {},
   "outputs": [
    {
     "name": "stdout",
     "output_type": "stream",
     "text": [
      "<class 'pandas.core.frame.DataFrame'>\n",
      "Int64Index: 268 entries, 1155 to 277\n",
      "Data columns (total 12 columns):\n",
      " #   Column         Non-Null Count  Dtype  \n",
      "---  ------         --------------  -----  \n",
      " 0   age            268 non-null    int64  \n",
      " 1   bmi            268 non-null    float64\n",
      " 2   OHO_male       268 non-null    uint8  \n",
      " 3   OHO_yes        268 non-null    uint8  \n",
      " 4   OHO_northwest  268 non-null    uint8  \n",
      " 5   OHO_southeast  268 non-null    uint8  \n",
      " 6   OHO_southwest  268 non-null    uint8  \n",
      " 7   OHO_1          268 non-null    uint8  \n",
      " 8   OHO_2          268 non-null    uint8  \n",
      " 9   OHO_3          268 non-null    uint8  \n",
      " 10  OHO_4          268 non-null    uint8  \n",
      " 11  OHO_5          268 non-null    uint8  \n",
      "dtypes: float64(1), int64(1), uint8(10)\n",
      "memory usage: 8.9 KB\n"
     ]
    }
   ],
   "source": [
    "# Handle categorical columns/features\n",
    "encoded_X_test_df = pd.get_dummies(data=X_test, prefix='OHO', prefix_sep='_', columns=categorical_cols, drop_first=True)\n",
    "encoded_X_test_df.info()"
   ]
  },
  {
   "cell_type": "code",
   "execution_count": 67,
   "metadata": {},
   "outputs": [
    {
     "data": {
      "text/plain": [
       "array([[ 1.12829229, -0.65294162, -1.01127855, ..., -0.36039401,\n",
       "        -0.12706042, -0.1192393 ],\n",
       "       [-1.17538857, -1.24367712, -1.01127855, ..., -0.36039401,\n",
       "        -0.12706042, -0.1192393 ],\n",
       "       [ 1.63222248,  1.48969846,  0.98884723, ..., -0.36039401,\n",
       "        -0.12706042, -0.1192393 ],\n",
       "       ...,\n",
       "       [ 0.19242194, -0.40652985,  0.98884723, ...,  2.77474089,\n",
       "        -0.12706042, -0.1192393 ],\n",
       "       [ 0.6243621 , -0.57705985, -1.01127855, ..., -0.36039401,\n",
       "        -0.12706042, -0.1192393 ],\n",
       "       [ 0.19242194, -1.01113621,  0.98884723, ..., -0.36039401,\n",
       "        -0.12706042, -0.1192393 ]])"
      ]
     },
     "execution_count": 67,
     "metadata": {},
     "output_type": "execute_result"
    }
   ],
   "source": [
    "# scale all the columns to convert them into same scale\n",
    "from sklearn.preprocessing import StandardScaler\n",
    "scaler = StandardScaler()\n",
    "scaled_X_train_df = scaler.fit_transform(encoded_X_train_df)\n",
    "scaled_X_train_df"
   ]
  },
  {
   "cell_type": "code",
   "execution_count": 68,
   "metadata": {},
   "outputs": [],
   "source": [
    "scaled_X_test_df = scaler.transform(encoded_X_test_df)"
   ]
  },
  {
   "cell_type": "markdown",
   "metadata": {},
   "source": [
    "# Linear Regression Explaination with Equations"
   ]
  },
  {
   "cell_type": "markdown",
   "metadata": {},
   "source": [
    "## Lineare Regression Implementation using Normal Equation"
   ]
  },
  {
   "cell_type": "markdown",
   "metadata": {},
   "source": [
    "The normal equation is $\\mathbf{\\theta = (X^T X)^{-1} X^Ty}$ \\\n",
    "Where, $\\hat{\\theta}$ is the value of $\\theta$ to minimize the cost function \\\n",
    "       $y$ is the vector of target value \\\n",
    "       $X$ is the features\n",
    "       "
   ]
  },
  {
   "cell_type": "code",
   "execution_count": 69,
   "metadata": {},
   "outputs": [
    {
     "data": {
      "text/plain": [
       "array([[ 1.        ,  1.12829229, -0.65294162, ..., -0.36039401,\n",
       "        -0.12706042, -0.1192393 ],\n",
       "       [ 1.        , -1.17538857, -1.24367712, ..., -0.36039401,\n",
       "        -0.12706042, -0.1192393 ],\n",
       "       [ 1.        ,  1.63222248,  1.48969846, ..., -0.36039401,\n",
       "        -0.12706042, -0.1192393 ],\n",
       "       ...,\n",
       "       [ 1.        ,  0.19242194, -0.40652985, ...,  2.77474089,\n",
       "        -0.12706042, -0.1192393 ],\n",
       "       [ 1.        ,  0.6243621 , -0.57705985, ..., -0.36039401,\n",
       "        -0.12706042, -0.1192393 ],\n",
       "       [ 1.        ,  0.19242194, -1.01113621, ..., -0.36039401,\n",
       "        -0.12706042, -0.1192393 ]])"
      ]
     },
     "execution_count": 69,
     "metadata": {},
     "output_type": "execute_result"
    }
   ],
   "source": [
    "from sklearn.preprocessing import add_dummy_feature\n",
    "# add x0 = 1 to each instance\n",
    "X_train_b = add_dummy_feature(scaled_X_train_df)\n",
    "X_train_b"
   ]
  },
  {
   "cell_type": "code",
   "execution_count": 70,
   "metadata": {},
   "outputs": [
    {
     "data": {
      "text/plain": [
       "array([[ 1.        , -0.23951822, -1.41420711, ...,  2.77474089,\n",
       "        -0.12706042, -0.1192393 ],\n",
       "       [ 1.        ,  0.40839202, -0.04996713, ..., -0.36039401,\n",
       "        -0.12706042, -0.1192393 ],\n",
       "       [ 1.        , -1.5353387 ,  0.98708372, ..., -0.36039401,\n",
       "        -0.12706042, -0.1192393 ],\n",
       "       ...,\n",
       "       [ 1.        , -1.39135865, -0.11197804, ..., -0.36039401,\n",
       "        -0.12706042,  8.38649708],\n",
       "       [ 1.        , -0.95941849, -1.39870439, ..., -0.36039401,\n",
       "        -0.12706042, -0.1192393 ],\n",
       "       [ 1.        , -1.24737859, -1.06090812, ..., -0.36039401,\n",
       "        -0.12706042, -0.1192393 ]])"
      ]
     },
     "execution_count": 70,
     "metadata": {},
     "output_type": "execute_result"
    }
   ],
   "source": [
    "X_test_b = add_dummy_feature(scaled_X_test_df)\n",
    "X_test_b"
   ]
  },
  {
   "cell_type": "code",
   "execution_count": 71,
   "metadata": {},
   "outputs": [
    {
     "data": {
      "text/plain": [
       "array([13232.52058373,  3402.38937477,  1994.72786225,   -64.44968435,\n",
       "        9653.42808779,  -212.6977235 ,  -511.90274669,  -479.49200339,\n",
       "         128.52096334,   742.76220361,   295.40661939,   379.00261393,\n",
       "         172.970735  ])"
      ]
     },
     "execution_count": 71,
     "metadata": {},
     "output_type": "execute_result"
    }
   ],
   "source": [
    "# put values in normalize equation\n",
    "theta_best = np.linalg.inv(X_train_b.T @ X_train_b) @ X_train_b.T @ y_train\n",
    "theta_best"
   ]
  },
  {
   "cell_type": "code",
   "execution_count": 72,
   "metadata": {},
   "outputs": [],
   "source": [
    "y_predict_nor_eq = X_test_b @ theta_best"
   ]
  },
  {
   "cell_type": "code",
   "execution_count": 73,
   "metadata": {},
   "outputs": [
    {
     "data": {
      "text/plain": [
       "['theta_0',\n",
       " 'theta_1',\n",
       " 'theta_2',\n",
       " 'theta_3',\n",
       " 'theta_4',\n",
       " 'theta_5',\n",
       " 'theta_6',\n",
       " 'theta_7',\n",
       " 'theta_8',\n",
       " 'theta_9',\n",
       " 'theta_10',\n",
       " 'theta_11',\n",
       " 'theta_12']"
      ]
     },
     "execution_count": 73,
     "metadata": {},
     "output_type": "execute_result"
    }
   ],
   "source": [
    "# The parameters for linear regression model\n",
    "\n",
    "parameters = [f'theta_{theta}' for theta in range(X_train_b.shape[1])]\n",
    "parameters"
   ]
  },
  {
   "cell_type": "code",
   "execution_count": 74,
   "metadata": {},
   "outputs": [
    {
     "data": {
      "text/plain": [
       "['intersect:x_0=1',\n",
       " 'age',\n",
       " 'bmi',\n",
       " 'OHO_male',\n",
       " 'OHO_yes',\n",
       " 'OHO_northwest',\n",
       " 'OHO_southeast',\n",
       " 'OHO_southwest',\n",
       " 'OHO_1',\n",
       " 'OHO_2',\n",
       " 'OHO_3',\n",
       " 'OHO_4',\n",
       " 'OHO_5']"
      ]
     },
     "execution_count": 74,
     "metadata": {},
     "output_type": "execute_result"
    }
   ],
   "source": [
    "columns = ['intersect:x_0=1'] + list(encoded_X_test_df.columns.values)\n",
    "columns"
   ]
  },
  {
   "cell_type": "code",
   "execution_count": 75,
   "metadata": {},
   "outputs": [
    {
     "data": {
      "text/html": [
       "<div>\n",
       "<style scoped>\n",
       "    .dataframe tbody tr th:only-of-type {\n",
       "        vertical-align: middle;\n",
       "    }\n",
       "\n",
       "    .dataframe tbody tr th {\n",
       "        vertical-align: top;\n",
       "    }\n",
       "\n",
       "    .dataframe thead th {\n",
       "        text-align: right;\n",
       "    }\n",
       "</style>\n",
       "<table border=\"1\" class=\"dataframe\">\n",
       "  <thead>\n",
       "    <tr style=\"text-align: right;\">\n",
       "      <th></th>\n",
       "      <th>Parameter</th>\n",
       "      <th>Columns</th>\n",
       "      <th>theta_best</th>\n",
       "    </tr>\n",
       "  </thead>\n",
       "  <tbody>\n",
       "    <tr>\n",
       "      <th>0</th>\n",
       "      <td>theta_0</td>\n",
       "      <td>intersect:x_0=1</td>\n",
       "      <td>13232.520584</td>\n",
       "    </tr>\n",
       "    <tr>\n",
       "      <th>1</th>\n",
       "      <td>theta_1</td>\n",
       "      <td>age</td>\n",
       "      <td>3402.389375</td>\n",
       "    </tr>\n",
       "    <tr>\n",
       "      <th>2</th>\n",
       "      <td>theta_2</td>\n",
       "      <td>bmi</td>\n",
       "      <td>1994.727862</td>\n",
       "    </tr>\n",
       "    <tr>\n",
       "      <th>3</th>\n",
       "      <td>theta_3</td>\n",
       "      <td>OHO_male</td>\n",
       "      <td>-64.449684</td>\n",
       "    </tr>\n",
       "    <tr>\n",
       "      <th>4</th>\n",
       "      <td>theta_4</td>\n",
       "      <td>OHO_yes</td>\n",
       "      <td>9653.428088</td>\n",
       "    </tr>\n",
       "    <tr>\n",
       "      <th>5</th>\n",
       "      <td>theta_5</td>\n",
       "      <td>OHO_northwest</td>\n",
       "      <td>-212.697724</td>\n",
       "    </tr>\n",
       "    <tr>\n",
       "      <th>6</th>\n",
       "      <td>theta_6</td>\n",
       "      <td>OHO_southeast</td>\n",
       "      <td>-511.902747</td>\n",
       "    </tr>\n",
       "    <tr>\n",
       "      <th>7</th>\n",
       "      <td>theta_7</td>\n",
       "      <td>OHO_southwest</td>\n",
       "      <td>-479.492003</td>\n",
       "    </tr>\n",
       "    <tr>\n",
       "      <th>8</th>\n",
       "      <td>theta_8</td>\n",
       "      <td>OHO_1</td>\n",
       "      <td>128.520963</td>\n",
       "    </tr>\n",
       "    <tr>\n",
       "      <th>9</th>\n",
       "      <td>theta_9</td>\n",
       "      <td>OHO_2</td>\n",
       "      <td>742.762204</td>\n",
       "    </tr>\n",
       "    <tr>\n",
       "      <th>10</th>\n",
       "      <td>theta_10</td>\n",
       "      <td>OHO_3</td>\n",
       "      <td>295.406619</td>\n",
       "    </tr>\n",
       "    <tr>\n",
       "      <th>11</th>\n",
       "      <td>theta_11</td>\n",
       "      <td>OHO_4</td>\n",
       "      <td>379.002614</td>\n",
       "    </tr>\n",
       "    <tr>\n",
       "      <th>12</th>\n",
       "      <td>theta_12</td>\n",
       "      <td>OHO_5</td>\n",
       "      <td>172.970735</td>\n",
       "    </tr>\n",
       "  </tbody>\n",
       "</table>\n",
       "</div>"
      ],
      "text/plain": [
       "   Parameter          Columns    theta_best\n",
       "0    theta_0  intersect:x_0=1  13232.520584\n",
       "1    theta_1              age   3402.389375\n",
       "2    theta_2              bmi   1994.727862\n",
       "3    theta_3         OHO_male    -64.449684\n",
       "4    theta_4          OHO_yes   9653.428088\n",
       "5    theta_5    OHO_northwest   -212.697724\n",
       "6    theta_6    OHO_southeast   -511.902747\n",
       "7    theta_7    OHO_southwest   -479.492003\n",
       "8    theta_8            OHO_1    128.520963\n",
       "9    theta_9            OHO_2    742.762204\n",
       "10  theta_10            OHO_3    295.406619\n",
       "11  theta_11            OHO_4    379.002614\n",
       "12  theta_12            OHO_5    172.970735"
      ]
     },
     "execution_count": 75,
     "metadata": {},
     "output_type": "execute_result"
    }
   ],
   "source": [
    "parameters_df = pd.DataFrame({'Parameter':parameters, 'Columns': columns, 'theta_best':theta_best})\n",
    "parameters_df"
   ]
  },
  {
   "cell_type": "code",
   "execution_count": 76,
   "metadata": {},
   "outputs": [
    {
     "data": {
      "text/html": [
       "<style>#sk-container-id-1 {color: black;background-color: white;}#sk-container-id-1 pre{padding: 0;}#sk-container-id-1 div.sk-toggleable {background-color: white;}#sk-container-id-1 label.sk-toggleable__label {cursor: pointer;display: block;width: 100%;margin-bottom: 0;padding: 0.3em;box-sizing: border-box;text-align: center;}#sk-container-id-1 label.sk-toggleable__label-arrow:before {content: \"▸\";float: left;margin-right: 0.25em;color: #696969;}#sk-container-id-1 label.sk-toggleable__label-arrow:hover:before {color: black;}#sk-container-id-1 div.sk-estimator:hover label.sk-toggleable__label-arrow:before {color: black;}#sk-container-id-1 div.sk-toggleable__content {max-height: 0;max-width: 0;overflow: hidden;text-align: left;background-color: #f0f8ff;}#sk-container-id-1 div.sk-toggleable__content pre {margin: 0.2em;color: black;border-radius: 0.25em;background-color: #f0f8ff;}#sk-container-id-1 input.sk-toggleable__control:checked~div.sk-toggleable__content {max-height: 200px;max-width: 100%;overflow: auto;}#sk-container-id-1 input.sk-toggleable__control:checked~label.sk-toggleable__label-arrow:before {content: \"▾\";}#sk-container-id-1 div.sk-estimator input.sk-toggleable__control:checked~label.sk-toggleable__label {background-color: #d4ebff;}#sk-container-id-1 div.sk-label input.sk-toggleable__control:checked~label.sk-toggleable__label {background-color: #d4ebff;}#sk-container-id-1 input.sk-hidden--visually {border: 0;clip: rect(1px 1px 1px 1px);clip: rect(1px, 1px, 1px, 1px);height: 1px;margin: -1px;overflow: hidden;padding: 0;position: absolute;width: 1px;}#sk-container-id-1 div.sk-estimator {font-family: monospace;background-color: #f0f8ff;border: 1px dotted black;border-radius: 0.25em;box-sizing: border-box;margin-bottom: 0.5em;}#sk-container-id-1 div.sk-estimator:hover {background-color: #d4ebff;}#sk-container-id-1 div.sk-parallel-item::after {content: \"\";width: 100%;border-bottom: 1px solid gray;flex-grow: 1;}#sk-container-id-1 div.sk-label:hover label.sk-toggleable__label {background-color: #d4ebff;}#sk-container-id-1 div.sk-serial::before {content: \"\";position: absolute;border-left: 1px solid gray;box-sizing: border-box;top: 0;bottom: 0;left: 50%;z-index: 0;}#sk-container-id-1 div.sk-serial {display: flex;flex-direction: column;align-items: center;background-color: white;padding-right: 0.2em;padding-left: 0.2em;position: relative;}#sk-container-id-1 div.sk-item {position: relative;z-index: 1;}#sk-container-id-1 div.sk-parallel {display: flex;align-items: stretch;justify-content: center;background-color: white;position: relative;}#sk-container-id-1 div.sk-item::before, #sk-container-id-1 div.sk-parallel-item::before {content: \"\";position: absolute;border-left: 1px solid gray;box-sizing: border-box;top: 0;bottom: 0;left: 50%;z-index: -1;}#sk-container-id-1 div.sk-parallel-item {display: flex;flex-direction: column;z-index: 1;position: relative;background-color: white;}#sk-container-id-1 div.sk-parallel-item:first-child::after {align-self: flex-end;width: 50%;}#sk-container-id-1 div.sk-parallel-item:last-child::after {align-self: flex-start;width: 50%;}#sk-container-id-1 div.sk-parallel-item:only-child::after {width: 0;}#sk-container-id-1 div.sk-dashed-wrapped {border: 1px dashed gray;margin: 0 0.4em 0.5em 0.4em;box-sizing: border-box;padding-bottom: 0.4em;background-color: white;}#sk-container-id-1 div.sk-label label {font-family: monospace;font-weight: bold;display: inline-block;line-height: 1.2em;}#sk-container-id-1 div.sk-label-container {text-align: center;}#sk-container-id-1 div.sk-container {/* jupyter's `normalize.less` sets `[hidden] { display: none; }` but bootstrap.min.css set `[hidden] { display: none !important; }` so we also need the `!important` here to be able to override the default hidden behavior on the sphinx rendered scikit-learn.org. See: https://github.com/scikit-learn/scikit-learn/issues/21755 */display: inline-block !important;position: relative;}#sk-container-id-1 div.sk-text-repr-fallback {display: none;}</style><div id=\"sk-container-id-1\" class=\"sk-top-container\"><div class=\"sk-text-repr-fallback\"><pre>LinearRegression()</pre><b>In a Jupyter environment, please rerun this cell to show the HTML representation or trust the notebook. <br />On GitHub, the HTML representation is unable to render, please try loading this page with nbviewer.org.</b></div><div class=\"sk-container\" hidden><div class=\"sk-item\"><div class=\"sk-estimator sk-toggleable\"><input class=\"sk-toggleable__control sk-hidden--visually\" id=\"sk-estimator-id-1\" type=\"checkbox\" checked><label for=\"sk-estimator-id-1\" class=\"sk-toggleable__label sk-toggleable__label-arrow\">LinearRegression</label><div class=\"sk-toggleable__content\"><pre>LinearRegression()</pre></div></div></div></div></div>"
      ],
      "text/plain": [
       "LinearRegression()"
      ]
     },
     "execution_count": 76,
     "metadata": {},
     "output_type": "execute_result"
    }
   ],
   "source": [
    "# Scikit Learn module\n",
    "from sklearn.linear_model import LinearRegression\n",
    "\n",
    "lin_reg = LinearRegression()\n",
    "lin_reg.fit(scaled_X_train_df,y_train) # Note: x_0 =1 is no need to add, sklearn will take care of it.\n"
   ]
  },
  {
   "cell_type": "code",
   "execution_count": 77,
   "metadata": {},
   "outputs": [],
   "source": [
    "lin_reg_model_predicted = lin_reg.predict(scaled_X_test_df)"
   ]
  },
  {
   "cell_type": "code",
   "execution_count": 78,
   "metadata": {},
   "outputs": [
    {
     "data": {
      "text/html": [
       "<div>\n",
       "<style scoped>\n",
       "    .dataframe tbody tr th:only-of-type {\n",
       "        vertical-align: middle;\n",
       "    }\n",
       "\n",
       "    .dataframe tbody tr th {\n",
       "        vertical-align: top;\n",
       "    }\n",
       "\n",
       "    .dataframe thead th {\n",
       "        text-align: right;\n",
       "    }\n",
       "</style>\n",
       "<table border=\"1\" class=\"dataframe\">\n",
       "  <thead>\n",
       "    <tr style=\"text-align: right;\">\n",
       "      <th></th>\n",
       "      <th>Parameter</th>\n",
       "      <th>Columns</th>\n",
       "      <th>theta_best</th>\n",
       "      <th>Sklearn_theta</th>\n",
       "    </tr>\n",
       "  </thead>\n",
       "  <tbody>\n",
       "    <tr>\n",
       "      <th>0</th>\n",
       "      <td>theta_0</td>\n",
       "      <td>intersect:x_0=1</td>\n",
       "      <td>13232.520584</td>\n",
       "      <td>13232.520584</td>\n",
       "    </tr>\n",
       "    <tr>\n",
       "      <th>1</th>\n",
       "      <td>theta_1</td>\n",
       "      <td>age</td>\n",
       "      <td>3402.389375</td>\n",
       "      <td>3402.389375</td>\n",
       "    </tr>\n",
       "    <tr>\n",
       "      <th>2</th>\n",
       "      <td>theta_2</td>\n",
       "      <td>bmi</td>\n",
       "      <td>1994.727862</td>\n",
       "      <td>1994.727862</td>\n",
       "    </tr>\n",
       "    <tr>\n",
       "      <th>3</th>\n",
       "      <td>theta_3</td>\n",
       "      <td>OHO_male</td>\n",
       "      <td>-64.449684</td>\n",
       "      <td>-64.449684</td>\n",
       "    </tr>\n",
       "    <tr>\n",
       "      <th>4</th>\n",
       "      <td>theta_4</td>\n",
       "      <td>OHO_yes</td>\n",
       "      <td>9653.428088</td>\n",
       "      <td>9653.428088</td>\n",
       "    </tr>\n",
       "    <tr>\n",
       "      <th>5</th>\n",
       "      <td>theta_5</td>\n",
       "      <td>OHO_northwest</td>\n",
       "      <td>-212.697724</td>\n",
       "      <td>-212.697724</td>\n",
       "    </tr>\n",
       "    <tr>\n",
       "      <th>6</th>\n",
       "      <td>theta_6</td>\n",
       "      <td>OHO_southeast</td>\n",
       "      <td>-511.902747</td>\n",
       "      <td>-511.902747</td>\n",
       "    </tr>\n",
       "    <tr>\n",
       "      <th>7</th>\n",
       "      <td>theta_7</td>\n",
       "      <td>OHO_southwest</td>\n",
       "      <td>-479.492003</td>\n",
       "      <td>-479.492003</td>\n",
       "    </tr>\n",
       "    <tr>\n",
       "      <th>8</th>\n",
       "      <td>theta_8</td>\n",
       "      <td>OHO_1</td>\n",
       "      <td>128.520963</td>\n",
       "      <td>128.520963</td>\n",
       "    </tr>\n",
       "    <tr>\n",
       "      <th>9</th>\n",
       "      <td>theta_9</td>\n",
       "      <td>OHO_2</td>\n",
       "      <td>742.762204</td>\n",
       "      <td>742.762204</td>\n",
       "    </tr>\n",
       "    <tr>\n",
       "      <th>10</th>\n",
       "      <td>theta_10</td>\n",
       "      <td>OHO_3</td>\n",
       "      <td>295.406619</td>\n",
       "      <td>295.406619</td>\n",
       "    </tr>\n",
       "    <tr>\n",
       "      <th>11</th>\n",
       "      <td>theta_11</td>\n",
       "      <td>OHO_4</td>\n",
       "      <td>379.002614</td>\n",
       "      <td>379.002614</td>\n",
       "    </tr>\n",
       "    <tr>\n",
       "      <th>12</th>\n",
       "      <td>theta_12</td>\n",
       "      <td>OHO_5</td>\n",
       "      <td>172.970735</td>\n",
       "      <td>172.970735</td>\n",
       "    </tr>\n",
       "  </tbody>\n",
       "</table>\n",
       "</div>"
      ],
      "text/plain": [
       "   Parameter          Columns    theta_best  Sklearn_theta\n",
       "0    theta_0  intersect:x_0=1  13232.520584   13232.520584\n",
       "1    theta_1              age   3402.389375    3402.389375\n",
       "2    theta_2              bmi   1994.727862    1994.727862\n",
       "3    theta_3         OHO_male    -64.449684     -64.449684\n",
       "4    theta_4          OHO_yes   9653.428088    9653.428088\n",
       "5    theta_5    OHO_northwest   -212.697724    -212.697724\n",
       "6    theta_6    OHO_southeast   -511.902747    -511.902747\n",
       "7    theta_7    OHO_southwest   -479.492003    -479.492003\n",
       "8    theta_8            OHO_1    128.520963     128.520963\n",
       "9    theta_9            OHO_2    742.762204     742.762204\n",
       "10  theta_10            OHO_3    295.406619     295.406619\n",
       "11  theta_11            OHO_4    379.002614     379.002614\n",
       "12  theta_12            OHO_5    172.970735     172.970735"
      ]
     },
     "execution_count": 78,
     "metadata": {},
     "output_type": "execute_result"
    }
   ],
   "source": [
    "#Parameter\n",
    "sk_theta = [lin_reg.intercept_]+list(lin_reg.coef_)\n",
    "parameter_df = parameters_df.join(pd.Series(sk_theta, name='Sklearn_theta'))\n",
    "parameter_df"
   ]
  },
  {
   "cell_type": "markdown",
   "metadata": {},
   "source": [
    "### Mean Square Error\n",
    "\n",
    "* Lesser the MSE -> Smaller is the error -> Better the estimator\n",
    "\n",
    "$ MSE = ({1 \\over n}) \\sum(Actual - Predicted)^2$\n",
    "\n",
    "where,\n",
    "* n = sample size \n",
    "* actual = the actual data value (labels) \n",
    "* predicted = the predicted data value from the model"
   ]
  },
  {
   "cell_type": "code",
   "execution_count": 79,
   "metadata": {},
   "outputs": [],
   "source": [
    "def mean_square_error(y_actual, y_predicted):\n",
    "    \"\"\"\n",
    "    Args:\n",
    "        y_actual (_type_): Actual values\n",
    "        y_predicted (_type_): predicted values\n",
    "    \"\"\"\n",
    "    # total number of samples\n",
    "    # 1. way\n",
    "    # n = len(y_actual) \n",
    "    # total_errors = 0\n",
    "    # for values in zip(y_actual, y_predicted):\n",
    "    #     total_errors += (values[0]- values[1])**2\n",
    "    # return total_errors/n\n",
    "    \n",
    "    # 2nd way\n",
    "    return np.mean((y_actual - y_predicted)**2)\n",
    "    "
   ]
  },
  {
   "cell_type": "code",
   "execution_count": 80,
   "metadata": {},
   "outputs": [
    {
     "data": {
      "text/plain": [
       "35805407.79035825"
      ]
     },
     "execution_count": 80,
     "metadata": {},
     "output_type": "execute_result"
    }
   ],
   "source": [
    "nor_equation_error= mean_square_error(y_test, y_predict_nor_eq)\n",
    "nor_equation_error"
   ]
  },
  {
   "cell_type": "code",
   "execution_count": 81,
   "metadata": {},
   "outputs": [
    {
     "data": {
      "text/plain": [
       "35805407.79035826"
      ]
     },
     "execution_count": 81,
     "metadata": {},
     "output_type": "execute_result"
    }
   ],
   "source": [
    "lin_reg_model_error= mean_square_error(y_test, lin_reg_model_predicted)\n",
    "lin_reg_model_error"
   ]
  },
  {
   "cell_type": "markdown",
   "metadata": {},
   "source": [
    "## Linear Regressin Implementation using Gradient Descent"
   ]
  },
  {
   "cell_type": "markdown",
   "metadata": {},
   "source": [
    "Approximation \\\n",
    "\n",
    "$\\hat{y}  = wx + b$ \\\n",
    "where, \n",
    "* $w$ = weights\n",
    "* $x$ = features\n",
    "* $b$ = bias\n",
    "\n",
    "The same equation can be written in terms of line equation\n",
    "$\\hat{y} = mx + b$\n",
    "where, \n",
    "* $\\hat{y}$ = Predicted value (and $y_i$ is label)\n",
    "* $m$ = Slop or Gradient (how steep the line is) $m = \\frac{Change\\ in\\ Y}{Change\\ in\\ X}$\n",
    "* $x$ = Features\n",
    "* $b$ = Intercept (value of y when x=0)"
   ]
  },
  {
   "cell_type": "markdown",
   "metadata": {},
   "source": [
    "Equation to find m and b, we are going down in the slop that's why we have to partial derivative to find a slop $m$ and intercept $b$. \\\n",
    "$\\frac{\\partial }{\\partial m} = \\frac{2}{n} \\sum_{i=1}^{n} -x_i (y_i - (mx_i + b))$\n",
    "\n",
    "$\\frac{\\partial }{\\partial b} = \\frac{2}{n} \\sum_{i=1}^{n} -(y_i - (mx_i + b))$"
   ]
  },
  {
   "cell_type": "markdown",
   "metadata": {},
   "source": [
    "After calcuating $m$ and $b$ we need to update it for next iteration \n",
    "\n",
    "$m = m - learning\\ rate (\\eta) * \\frac{\\partial }{\\partial m}$ \n",
    "\n",
    "$b = b - learning\\ rate (\\eta) * \\frac{\\partial }{\\partial m}$"
   ]
  },
  {
   "cell_type": "code",
   "execution_count": 82,
   "metadata": {},
   "outputs": [],
   "source": [
    "class LinearRegressionWithGD_1:\n",
    "    def __init__(self, learning_rate:float=0.001, n_iters:int=1000) -> None:\n",
    "        self.eta = learning_rate\n",
    "        self.n_iters = n_iters\n",
    "        self.m_curr = None # slop\n",
    "        self.b_curr = None # intercept\n",
    "        self.cost = None\n",
    "        \n",
    "    def fit(self, X, y):\n",
    "        n_samples, n_features = X.shape\n",
    "        # init parameters\n",
    "        self.m_curr = np.zeros(n_features) # easy for mulitplication with each features in X\n",
    "        self.b_curr = 0\n",
    "        \n",
    "        for i in range(self.n_iters):\n",
    "            \n",
    "            # mxi + b\n",
    "            y_predicted = np.dot(self.m_curr, X.T) + self.b_curr\n",
    "            \n",
    "            # cost function for more info\n",
    "            self.cost = 1/n_samples * sum([val**2 for val in (y -y_predicted)])\n",
    "            \n",
    "            # compute the gradients using d/dx and d/d\n",
    "            dm = -2/n_samples * np.dot(X.T, (y-y_predicted))\n",
    "            db = -2/n_samples * np.sum(y -y_predicted)\n",
    "            \n",
    "            # update parameters\n",
    "            self.m_curr -=  self.eta * dm\n",
    "            self.b_curr -=  self.eta * db\n",
    "\n",
    "            #print(f'[INFO] iterations:{i} m:{self.m_curr} b:{self.b_curr} cost:{self.cost}')\n",
    "            \n",
    "    def predict(self, X):\n",
    "        y_approximated = np.dot(X,self.m_curr) + self.b_curr\n",
    "        return y_approximated"
   ]
  },
  {
   "cell_type": "code",
   "execution_count": 96,
   "metadata": {},
   "outputs": [],
   "source": [
    "my_liner_reg = LinearRegressionWithGD_1(learning_rate=0.1)\n",
    "my_liner_reg.fit(scaled_X_train_df,y_train)\n",
    "my_liner_reg1_predict = my_liner_reg.predict(scaled_X_test_df)"
   ]
  },
  {
   "cell_type": "code",
   "execution_count": 97,
   "metadata": {},
   "outputs": [
    {
     "data": {
      "text/plain": [
       "35805407.790358245"
      ]
     },
     "execution_count": 97,
     "metadata": {},
     "output_type": "execute_result"
    }
   ],
   "source": [
    "mean_square_error(y_test, my_liner_reg1_predict)"
   ]
  },
  {
   "cell_type": "markdown",
   "metadata": {},
   "source": [
    "# References\n",
    "1. https://www.youtube.com/watch?v=4swNt7PiamQ&list=PLqnslRFeH2Upcrywf-u2etjdxxkL8nl7E&index=4\n",
    "2. https://www.youtube.com/watch?v=vsWrXfO3wWw&t=699s\n",
    "3. https://www.mathsisfun.com/equation_of_line.html\n",
    "4. https://www.simplilearn.com/tutorials/statistics-tutorial/mean-squared-error"
   ]
  }
 ],
 "metadata": {
  "kernelspec": {
   "display_name": "Python 3.10.6 ('hands_on_ml')",
   "language": "python",
   "name": "python3"
  },
  "language_info": {
   "codemirror_mode": {
    "name": "ipython",
    "version": 3
   },
   "file_extension": ".py",
   "mimetype": "text/x-python",
   "name": "python",
   "nbconvert_exporter": "python",
   "pygments_lexer": "ipython3",
   "version": "3.10.6"
  },
  "orig_nbformat": 4,
  "vscode": {
   "interpreter": {
    "hash": "c5da64da1bad6bc3ad4aae2111ea4553d42de5ea305fe3c1bc4ee95fc2d20d63"
   }
  }
 },
 "nbformat": 4,
 "nbformat_minor": 2
}
